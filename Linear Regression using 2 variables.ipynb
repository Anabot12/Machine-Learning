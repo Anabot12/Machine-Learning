{
 "cells": [
  {
   "cell_type": "code",
   "execution_count": 1,
   "metadata": {},
   "outputs": [
    {
     "ename": "NameError",
     "evalue": "name 'lol' is not defined",
     "output_type": "error",
     "traceback": [
      "\u001b[1;31m---------------------------------------------------------------------------\u001b[0m",
      "\u001b[1;31mNameError\u001b[0m                                 Traceback (most recent call last)",
      "Cell \u001b[1;32mIn[1], line 10\u001b[0m\n\u001b[0;32m      5\u001b[0m \u001b[39mfrom\u001b[39;00m \u001b[39msklearn\u001b[39;00m\u001b[39m.\u001b[39;00m\u001b[39mlinear_model\u001b[39;00m \u001b[39mimport\u001b[39;00m LinearRegression\n\u001b[0;32m      8\u001b[0m \u001b[39m# Loading the data   \u001b[39;00m\n\u001b[1;32m---> 10\u001b[0m data \u001b[39m=\u001b[39m pd\u001b[39m.\u001b[39mread_csv(lol\u001b[39m.\u001b[39mcsv)\n\u001b[0;32m     14\u001b[0m \u001b[39m#Printing head of data  \u001b[39;00m\n\u001b[0;32m     15\u001b[0m \u001b[39mprint\u001b[39m(data\u001b[39m.\u001b[39mhead())  \n",
      "\u001b[1;31mNameError\u001b[0m: name 'lol' is not defined"
     ]
    }
   ],
   "source": [
    "\n",
    "import numpy as np\n",
    "import pandas as pd\n",
    "import matplotlib.pyplot as plt\n",
    "from sklearn.model_selection import train_test_split\n",
    "from sklearn.linear_model import LinearRegression\n",
    "\n",
    "  \n",
    "# Loading the data   \n",
    "\n",
    "data = pd.read_csv(lol.csv)\n",
    "  \n",
    "\n",
    "  \n",
    "#Printing head of data  \n",
    "print(data.head())  \n",
    "  \n",
    " \n",
    "\n",
    "# Separating independent and dependent variables  \n",
    "# This will convert each dataframe into numpy arrays  X = data.iloc[:, :-1].values  \n",
    "Y = data.iloc[:, -1].values  \n",
    "  \n",
    "  \n",
    "# Separating the data into training and test data  \n",
    "X_train, X_test, Y_train, Y_test = train_test_split(X, Y, test_size = 0.25, random_state = 10)  \n",
    "  \n",
    "# Creating an instance of the Linear Regression class of the sklearn  \n",
    "lr = LinearRegression()  \n",
    "  \n",
    "# Fitting the training data of the data into the model to train the model  \n",
    "lr.fit( X_train, Y_train )  \n",
    "  \n",
    "# Printing the R-square for the trained model by passing unseen or the test data  \n",
    "score = lr.score( X_test, Y_test )  \n",
    "print(\"R-square score of the model: \", score)  \n",
    "  \n",
    "# Storing the predicted values of the test data by the model in an array  \n",
    "Y_pred = lr.predict(X_test)  \n",
    "  \n",
    "# Creating a data for the coefficient value for the intercept and independent features  \n",
    "result = pd.DataFrame(data = data.iloc[:,:-1].columns, columns = [\"Features\"])  \n",
    "result[\"Coefficients\"] = lr.coef_  \n",
    "result.loc[0] = [\"Intercept\", lr.intercept_]  \n",
    "result\n",
    "#plotting   \n",
    "plt.scatter(X_test, Y_test, color = \"black\", label = \"original data\")  \n",
    "plt.plot(X_test, Y_pred, color = \"blue\", linewidth=3, label = \"regression line\")  \n",
    "plt.xlabel(\"Independent Feature\")  \n",
    "plt.ylabel(\"Target Values\")  \n",
    "plt.title(\"Simple Linear Regression\")  \n",
    "plt.show()  "
   ]
  }
 ],
 "metadata": {
  "kernelspec": {
   "display_name": "Python 3",
   "language": "python",
   "name": "python3"
  },
  "language_info": {
   "codemirror_mode": {
    "name": "ipython",
    "version": 3
   },
   "file_extension": ".py",
   "mimetype": "text/x-python",
   "name": "python",
   "nbconvert_exporter": "python",
   "pygments_lexer": "ipython3",
   "version": "3.11.2"
  },
  "orig_nbformat": 4,
  "vscode": {
   "interpreter": {
    "hash": "c7af7df4901773a0e355da496bf365ae011b1b331a57bbc9908dae1ee21823d7"
   }
  }
 },
 "nbformat": 4,
 "nbformat_minor": 2
}
