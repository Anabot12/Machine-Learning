{
 "cells": [
  {
   "cell_type": "code",
   "execution_count": 1,
   "metadata": {},
   "outputs": [
    {
     "name": "stdout",
     "output_type": "stream",
     "text": [
      "SVC(kernel='linear', random_state=0)\n",
      "[17063 18911 16316 16720 18911 20093 15006 15006 16046 18448 16471 18911\n",
      " 18915 16720 16046 18915 17700 16720 15006 16046 18448 16046 20093 16046\n",
      " 15455 17221 16316 16046 15455 15006 18585 16046 16720 16720 18915 17700\n",
      " 17221 17221 18585 16316 15020 16720 15455 15568 17063 16720 16316 18915\n",
      " 18915 16720 15455 18911 17700 18915 16046 17221 17063 18911 16720 18915\n",
      " 18915 17700 17221 18915 16316 15455 16720 15455 16720 18448 16720 20093\n",
      " 20093 15455 19952 20093 16316 16720 16720 16720 15006 16720 18911 16720\n",
      " 15455 15568 16720 15455 15568 18911 15568 15006 18911 15455 18915 19149\n",
      " 17221 17700 18915 17700 17700 18915 15020 17700 16046 16046 15455 18915\n",
      " 16264 17700 18911 16720 18448 18911 20093 16046 20093 16720 18448 15006\n",
      " 16046 15455 18911 20093 18915 16720 15455 16046 17221 16720 18915 17063\n",
      " 15455 15455 15020 15006 15006 15006 15455 15455 16046 17700 15455 18915\n",
      " 15455 17700 20093 17700 16471 16046 17221 18448 18448 17700 18585 16720\n",
      " 18911 18915 20093 15006 15455 18911 19149 15455 15568 16046 15568 15455\n",
      " 18911 16720 16316 15455 18448 18915 18915 16720 15455 16046 18585 17221\n",
      " 18448 20093 19149 17700 17063 17221 16720 18911 18585 16720 16720 17221\n",
      " 20093 15006 16316 18911 18915 15006 18915 18448 19176 15455 20093 16720\n",
      " 16720 18915 17700 20093 17063 18915 16046 16316 18448 16720 17700 20093\n",
      " 15455 18911 18448 17700 15020 16046 17221 17700 15006 18915 17700 20093\n",
      " 18448 15568 16264 15455 20093 20093 15020 16046 17700 16720 18911 15568\n",
      " 17700 18448 15568 16720 20093 15455 18915 15006 16046 15006]\n",
      "[[0 0 0 ... 0 0 0]\n",
      " [0 0 0 ... 0 0 0]\n",
      " [0 0 0 ... 0 0 0]\n",
      " ...\n",
      " [0 0 0 ... 0 0 0]\n",
      " [0 0 0 ... 0 0 0]\n",
      " [0 0 0 ... 0 0 0]]\n"
     ]
    }
   ],
   "source": [
    "#Data Pre-processing Step  \n",
    "# importing libraries  \n",
    "import numpy as nm  \n",
    "import matplotlib.pyplot as mtp  \n",
    "import pandas as pd  \n",
    "  \n",
    "#importing datasets  \n",
    "data_set= pd.read_csv('C:/Users/dell/Desktop/code/Machine Learning/Decision_Tree_ Dataset.csv')  \n",
    "  \n",
    "#Extracting Independent and dependent Variable  \n",
    "x= data_set.iloc[:, [2,3]].values  \n",
    "y= data_set.iloc[:, 4].values\n",
    "  \n",
    "# Splitting the dataset into training and test set.  \n",
    "from sklearn.model_selection import train_test_split  \n",
    "x_train, x_test, y_train, y_test= train_test_split(x, y, test_size= 0.25, random_state=0) \n",
    " \n",
    "#feature Scaling  \n",
    "from sklearn.preprocessing import StandardScaler    \n",
    "st_x= StandardScaler()    \n",
    "x_train= st_x.fit_transform(x_train)    \n",
    "x_test= st_x.transform(x_test)       \n",
    "from sklearn.svm import SVC # \"Support vector classifier\"  \n",
    "classifier = SVC(kernel='linear', random_state=0)  \n",
    "classifier.fit(x_train, y_train) \n",
    "print(classifier)\n",
    "\n",
    "#Predicting the test set result  \n",
    "y_pred= classifier.predict(x_test) \n",
    "print(y_pred)\n",
    "#Creating the Confusion matrix  \n",
    "from sklearn.metrics import confusion_matrix  \n",
    "cm= confusion_matrix(y_test, y_pred)  \n",
    "print(cm)\n"
   ]
  }
 ],
 "metadata": {
  "kernelspec": {
   "display_name": "Python 3",
   "language": "python",
   "name": "python3"
  },
  "language_info": {
   "codemirror_mode": {
    "name": "ipython",
    "version": 3
   },
   "file_extension": ".py",
   "mimetype": "text/x-python",
   "name": "python",
   "nbconvert_exporter": "python",
   "pygments_lexer": "ipython3",
   "version": "3.11.2"
  },
  "orig_nbformat": 4
 },
 "nbformat": 4,
 "nbformat_minor": 2
}
